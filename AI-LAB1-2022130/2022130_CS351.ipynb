{
  "nbformat": 4,
  "nbformat_minor": 0,
  "metadata": {
    "colab": {
      "provenance": []
    },
    "kernelspec": {
      "name": "python3",
      "display_name": "Python 3"
    },
    "language_info": {
      "name": "python"
    }
  },
  "cells": [
    {
      "cell_type": "markdown",
      "source": [
        "CS351- AI LAB\n",
        "\n",
        "Non AI Version Code"
      ],
      "metadata": {
        "id": "NZbMbmqzr3PM"
      }
    },
    {
      "cell_type": "code",
      "source": [
        "import random\n",
        "\n",
        "def number_guessing_game():\n",
        "    # The computer selects a random number between 1 and 100\n",
        "    number_to_guess = random.randint(1, 100)\n",
        "    attempts = 0\n",
        "    max_attempts = 10  # Player has 10 attempts to guess the number\n",
        "\n",
        "    print(\"Welcome to the Number Guessing Game!\")\n",
        "    print(\"Guess a number between 1 and 100. You have 10 attempts.\")\n",
        "\n",
        "    # Loop for the player to make guesses\n",
        "    while attempts < max_attempts:\n",
        "        guess = int(input(\"Enter your guess: \"))\n",
        "        attempts += 1\n",
        "\n",
        "        if guess < number_to_guess:\n",
        "            print(\"Too low!\")\n",
        "        elif guess > number_to_guess:\n",
        "            print(\"Too high!\")\n",
        "        else:\n",
        "            print(f\"Congratulations! You guessed the number in {attempts} attempts.\")\n",
        "            return\n",
        "\n",
        "    print(f\"Sorry, you've used all your attempts. The number was {number_to_guess}.\")\n",
        "\n",
        "# Run the game\n",
        "number_guessing_game()"
      ],
      "metadata": {
        "colab": {
          "base_uri": "https://localhost:8080/"
        },
        "id": "M6Poccs1sR_N",
        "outputId": "f88cdabd-6fe7-47ad-91ba-af2a85084c2a"
      },
      "execution_count": 3,
      "outputs": [
        {
          "output_type": "stream",
          "name": "stdout",
          "text": [
            "Welcome to the Number Guessing Game!\n",
            "Guess a number between 1 and 100. You have 10 attempts.\n",
            "Enter your guess: 50\n",
            "Too high!\n",
            "Enter your guess: 45\n",
            "Too high!\n",
            "Enter your guess: 30\n",
            "Too high!\n",
            "Enter your guess: 25\n",
            "Too high!\n",
            "Enter your guess: 10\n",
            "Too low!\n",
            "Enter your guess: 15\n",
            "Too high!\n",
            "Enter your guess: 12\n",
            "Congratulations! You guessed the number in 7 attempts.\n"
          ]
        }
      ]
    },
    {
      "cell_type": "markdown",
      "source": [
        "AI Version Code"
      ],
      "metadata": {
        "id": "G-ReOIy9sf-C"
      }
    },
    {
      "cell_type": "code",
      "source": [
        "def ai_number_guessing_game():\n",
        "    # Player selects a number\n",
        "    print(\"Think of a number between 1 and 100, and I (the AI) will try to guess it.\")\n",
        "    low = 1\n",
        "    high = 100\n",
        "    attempts = 0\n",
        "\n",
        "    # Loop until the AI guesses the number correctly\n",
        "    while low <= high:\n",
        "        guess = (low + high) // 2  # AI uses binary search to guess\n",
        "        attempts += 1\n",
        "\n",
        "        print(f\"AI's guess is: {guess}\")\n",
        "        feedback = input(\"Enter 'h' if too high, 'l' if too low, or 'c' if correct: \").lower()\n",
        "\n",
        "        if feedback == 'c':\n",
        "            print(f\"I (AI) guessed the number in {attempts} attempts!\")\n",
        "            return\n",
        "        elif feedback == 'h':\n",
        "            high = guess - 1  # If too high, reduce the upper bound\n",
        "        elif feedback == 'l':\n",
        "            low = guess + 1  # If too low, increase the lower bound\n",
        "\n",
        "    print(\"Something went wrong!\")\n",
        "\n",
        "# Run the AI version\n",
        "ai_number_guessing_game()"
      ],
      "metadata": {
        "colab": {
          "base_uri": "https://localhost:8080/"
        },
        "id": "0F2QgQFYsir_",
        "outputId": "166dddbb-96f8-4f45-be75-bb4561829a91"
      },
      "execution_count": 4,
      "outputs": [
        {
          "output_type": "stream",
          "name": "stdout",
          "text": [
            "Think of a number between 1 and 100, and I (the AI) will try to guess it.\n",
            "AI's guess is: 50\n",
            "Enter 'h' if too high, 'l' if too low, or 'c' if correct: l\n",
            "AI's guess is: 75\n",
            "Enter 'h' if too high, 'l' if too low, or 'c' if correct: h\n",
            "AI's guess is: 62\n",
            "Enter 'h' if too high, 'l' if too low, or 'c' if correct: h\n",
            "AI's guess is: 56\n",
            "Enter 'h' if too high, 'l' if too low, or 'c' if correct: h\n",
            "AI's guess is: 53\n",
            "Enter 'h' if too high, 'l' if too low, or 'c' if correct: l\n",
            "AI's guess is: 54\n",
            "Enter 'h' if too high, 'l' if too low, or 'c' if correct: l\n",
            "AI's guess is: 55\n",
            "Enter 'h' if too high, 'l' if too low, or 'c' if correct: c\n",
            "I (AI) guessed the number in 7 attempts!\n"
          ]
        }
      ]
    },
    {
      "cell_type": "markdown",
      "source": [
        "BFS Version Code"
      ],
      "metadata": {
        "id": "k-yx9aGWsxlp"
      }
    },
    {
      "cell_type": "code",
      "source": [
        "from collections import deque\n",
        "\n",
        "def bfs_guessing_game(low, high):\n",
        "    queue = deque([(low, high)])\n",
        "    while queue :\n",
        "        low, high = queue.popleft()\n",
        "        mid = (low + high) // 2\n",
        "        print(f\"Is your number {mid}?\")\n",
        "        response = input(\"Enter 'h' if the guess is too high, 'l' if it's too low, or 'c' if it's correct: \")\n",
        "        if response == 'h':\n",
        "            queue.append((low, mid - 1))\n",
        "        elif response == 'l':\n",
        "            queue.append((mid + 1, high))\n",
        "        elif response == 'c':\n",
        "            print(\"Yay! I guessed your number!\")\n",
        "            return\n",
        "        else:\n",
        "            print(\"Invalid response. Please try again.\")\n",
        "\n",
        "bfs_guessing_game(1, 100)"
      ],
      "metadata": {
        "colab": {
          "base_uri": "https://localhost:8080/"
        },
        "id": "X0sbJjfCw5om",
        "outputId": "a50b1908-4ed7-47d1-c610-bb376ce8d7b6"
      },
      "execution_count": 5,
      "outputs": [
        {
          "output_type": "stream",
          "name": "stdout",
          "text": [
            "Is your number 50?\n",
            "Enter 'h' if the guess is too high, 'l' if it's too low, or 'c' if it's correct: l\n",
            "Is your number 75?\n",
            "Enter 'h' if the guess is too high, 'l' if it's too low, or 'c' if it's correct: h\n",
            "Is your number 62?\n",
            "Enter 'h' if the guess is too high, 'l' if it's too low, or 'c' if it's correct: l\n",
            "Is your number 68?\n",
            "Enter 'h' if the guess is too high, 'l' if it's too low, or 'c' if it's correct: h\n",
            "Is your number 65?\n",
            "Enter 'h' if the guess is too high, 'l' if it's too low, or 'c' if it's correct: c\n",
            "Yay! I guessed your number!\n"
          ]
        }
      ]
    },
    {
      "cell_type": "markdown",
      "source": [
        "DFS Version Code"
      ],
      "metadata": {
        "id": "Rr8XR4LGs6eb"
      }
    },
    {
      "cell_type": "code",
      "source": [
        "class NumberGuessingGame:\n",
        "    def __init__(self, min_num, max_num):\n",
        "        self.min_num = min_num\n",
        "        self.max_num = max_num\n",
        "        self.guesses = []\n",
        "\n",
        "    def dfs_guess(self, low, high):\n",
        "        if len(self.guesses) >= 5:\n",
        "            print(\"I couldn't guess the number in 5 attempts or less. You win!\")\n",
        "            return\n",
        "        mid = (low + high) // 2\n",
        "        self.guesses.append(mid)\n",
        "        response = input(f\"My guess is {mid}. Is my guess higher (H) or lower (L) than the number in your heart? \")\n",
        "        if response.upper() == \"H\":\n",
        "            self.dfs_guess(low, mid - 1)\n",
        "        elif response.upper() == \"L\":\n",
        "            self.dfs_guess(mid + 1, high)\n",
        "        else:\n",
        "            print(\"Invalid response. Please enter H or L.\")\n",
        "            self.dfs_guess(low, high)\n",
        "\n",
        "    def play(self):\n",
        "        print(\"Think of a number between 1 and 100.\")\n",
        "        self.dfs_guess(self.min_num, self.max_num)\n",
        "\n",
        "game = NumberGuessingGame(1, 100)\n",
        "game.play()"
      ],
      "metadata": {
        "colab": {
          "base_uri": "https://localhost:8080/"
        },
        "id": "IxH7e1_QzGKr",
        "outputId": "0f12022a-20a3-4720-e668-3f934510bc98"
      },
      "execution_count": 6,
      "outputs": [
        {
          "output_type": "stream",
          "name": "stdout",
          "text": [
            "Think of a number between 1 and 100.\n",
            "My guess is 50. Is my guess higher (H) or lower (L) than the number in your heart? h\n",
            "My guess is 25. Is my guess higher (H) or lower (L) than the number in your heart? l\n",
            "My guess is 37. Is my guess higher (H) or lower (L) than the number in your heart? h\n",
            "My guess is 31. Is my guess higher (H) or lower (L) than the number in your heart? h\n",
            "My guess is 28. Is my guess higher (H) or lower (L) than the number in your heart? c\n",
            "Invalid response. Please enter H or L.\n",
            "I couldn't guess the number in 5 attempts or less. You win!\n"
          ]
        }
      ]
    },
    {
      "cell_type": "markdown",
      "source": [
        "My Version Code"
      ],
      "metadata": {
        "id": "KpYMLl92tEdg"
      }
    },
    {
      "cell_type": "code",
      "source": [
        "import random\n",
        "import math\n",
        "\n",
        "class SimulatedAnnealingNumberGuessingGame:\n",
        "    def __init__(self, min_num, max_num):\n",
        "        # Initialize the game with a minimum and maximum number\n",
        "        self.min_num = min_num\n",
        "        self.max_num = max_num\n",
        "        self.temperature = 100  # Starting temperature for simulated annealing\n",
        "        self.cooling_rate = 0.03  # Cooling rate to decrease temperature\n",
        "        self.max_attempts = 5  # Max number of attempts\n",
        "\n",
        "    def play(self):\n",
        "        # Start the game by asking the player to think of a number\n",
        "        print(f\"Think of a number between {self.min_num} and {self.max_num}.\")\n",
        "        self.simulated_annealing_guess()\n",
        "\n",
        "    def simulated_annealing_guess(self):\n",
        "        # Start with a random guess within the range\n",
        "        current_guess = random.randint(self.min_num, self.max_num)\n",
        "        attempts = 0\n",
        "\n",
        "        while attempts < self.max_attempts:\n",
        "            # Ask for feedback based on the guess\n",
        "            feedback = self.evaluate_guess(current_guess)\n",
        "\n",
        "            # If the guess is correct, end the game\n",
        "            if feedback == 0:\n",
        "                print(f\"Yay! I guessed the number {current_guess} correctly!\")\n",
        "                return\n",
        "\n",
        "            # Perturb the guess slightly to generate a new candidate guess\n",
        "            new_guess = current_guess + random.randint(-10, 10)\n",
        "            new_guess = max(min(new_guess, self.max_num), self.min_num)  # Keep the guess within bounds\n",
        "\n",
        "            # Get feedback for the new guess\n",
        "            new_feedback = self.evaluate_guess(new_guess)\n",
        "\n",
        "            # Calculate \"energy difference\" (delta) based on feedback\n",
        "            delta = new_feedback - feedback\n",
        "\n",
        "            # Simulated annealing logic: Accept the new guess with some probability\n",
        "            if delta > 0 or random.random() < self.acceptance_probability(delta):\n",
        "                current_guess = new_guess  # Accept the new guess\n",
        "\n",
        "            # Decrease the temperature\n",
        "            self.temperature *= 1 - self.cooling_rate\n",
        "            attempts += 1  # Increment the number of attempts\n",
        "\n",
        "        print(f\"Sorry! I couldn't guess the number within {self.max_attempts} attempts.\")\n",
        "\n",
        "    def evaluate_guess(self, guess):\n",
        "        # Ask the user if the guess is too high, too low, or correct\n",
        "        response = input(f\"My guess is {guess}. Enter 'h' if the guess is too high, 'l' if it's too low, or 'c' if it's correct: \").lower()\n",
        "        if response == 'h':\n",
        "            return -1  # Guess is higher than the target\n",
        "        elif response == 'l':\n",
        "            return 1  # Guess is lower than the target\n",
        "        elif response == 'c':\n",
        "            return 0  # Correct guess\n",
        "        else:\n",
        "            print(\"Invalid response. Please enter 'h', 'l', or 'c'.\")\n",
        "            return self.evaluate_guess(guess)  # Recursively ask until valid input\n",
        "\n",
        "    def acceptance_probability(self, delta):\n",
        "        # If delta is positive (better guess), always accept it\n",
        "        if delta > 0:\n",
        "            return 1\n",
        "        # If delta is negative (worse guess), accept with a probability based on temperature\n",
        "        else:\n",
        "            return math.exp(delta / self.temperature)\n",
        "\n",
        "# Create a game instance and start the game\n",
        "game = SimulatedAnnealingNumberGuessingGame(1, 100)\n",
        "game.play()\n"
      ],
      "metadata": {
        "colab": {
          "base_uri": "https://localhost:8080/"
        },
        "id": "zzqw3iXc6c_G",
        "outputId": "e5121a4e-f3b2-4a4a-d439-2fde58661319"
      },
      "execution_count": 8,
      "outputs": [
        {
          "output_type": "stream",
          "name": "stdout",
          "text": [
            "Think of a number between 1 and 100.\n",
            "My guess is 7. Enter 'h' if the guess is too high, 'l' if it's too low, or 'c' if it's correct: l\n",
            "My guess is 12. Enter 'h' if the guess is too high, 'l' if it's too low, or 'c' if it's correct: l\n",
            "My guess is 12. Enter 'h' if the guess is too high, 'l' if it's too low, or 'c' if it's correct: l\n",
            "My guess is 3. Enter 'h' if the guess is too high, 'l' if it's too low, or 'c' if it's correct: l\n",
            "My guess is 3. Enter 'h' if the guess is too high, 'l' if it's too low, or 'c' if it's correct: l\n",
            "My guess is 5. Enter 'h' if the guess is too high, 'l' if it's too low, or 'c' if it's correct: l\n",
            "My guess is 5. Enter 'h' if the guess is too high, 'l' if it's too low, or 'c' if it's correct: l\n",
            "My guess is 7. Enter 'h' if the guess is too high, 'l' if it's too low, or 'c' if it's correct: l\n",
            "My guess is 7. Enter 'h' if the guess is too high, 'l' if it's too low, or 'c' if it's correct: l\n",
            "My guess is 12. Enter 'h' if the guess is too high, 'l' if it's too low, or 'c' if it's correct: l\n",
            "Sorry! I couldn't guess the number within 5 attempts.\n"
          ]
        }
      ]
    }
  ]
}